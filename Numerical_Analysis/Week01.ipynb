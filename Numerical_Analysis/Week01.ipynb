{
 "cells": [
  {
   "cell_type": "code",
   "execution_count": 1,
   "metadata": {},
   "outputs": [
    {
     "name": "stdout",
     "output_type": "stream",
     "text": [
      "Enter your name:matt\n"
     ]
    },
    {
     "data": {
      "text/plain": [
       "'matt'"
      ]
     },
     "execution_count": 1,
     "metadata": {},
     "output_type": "execute_result"
    }
   ],
   "source": [
    "input(\"Enter your name:\")"
   ]
  },
  {
   "cell_type": "code",
   "execution_count": 2,
   "metadata": {},
   "outputs": [
    {
     "name": "stdout",
     "output_type": "stream",
     "text": [
      "Enter your name:matt\n"
     ]
    }
   ],
   "source": [
    "name = input(\"Enter your name:\")\n"
   ]
  },
  {
   "cell_type": "code",
   "execution_count": 3,
   "metadata": {},
   "outputs": [
    {
     "name": "stdout",
     "output_type": "stream",
     "text": [
      "Hello matt\n"
     ]
    }
   ],
   "source": [
    "print(\"Hello \" + name) "
   ]
  },
  {
   "cell_type": "code",
   "execution_count": 4,
   "metadata": {},
   "outputs": [
    {
     "name": "stdout",
     "output_type": "stream",
     "text": [
      "Enter your favorite digit69\n"
     ]
    }
   ],
   "source": [
    "digit = int( input(\"Enter your favorite digit\")  )"
   ]
  },
  {
   "cell_type": "code",
   "execution_count": 5,
   "metadata": {},
   "outputs": [
    {
     "name": "stdout",
     "output_type": "stream",
     "text": [
      "4761\n"
     ]
    }
   ],
   "source": [
    "print(digit^2)"
   ]
  },
  {
   "cell_type": "code",
   "execution_count": 6,
   "metadata": {},
   "outputs": [
    {
     "name": "stdout",
     "output_type": "stream",
     "text": [
      "Enter your name:matt\n"
     ]
    },
    {
     "data": {
      "application/vnd.jupyter.widget-view+json": {
       "model_id": "66981a059fb24c6b987ed0cb895909c7",
       "version_major": 2,
       "version_minor": 0
      },
      "text/plain": [
       "Interactive function <function myInteract at 0x6ffed63bfcb0> with 1 widget\n",
       "  name: Text(value='matt', descript…"
      ]
     },
     "metadata": {},
     "output_type": "display_data"
    }
   ],
   "source": [
    "@interact\n",
    "def myInteract(name = input(\"Enter your name:\")):\n",
    "    print(\"Hello \" + name)\n",
    "    "
   ]
  },
  {
   "cell_type": "code",
   "execution_count": 7,
   "metadata": {},
   "outputs": [
    {
     "data": {
      "application/vnd.jupyter.widget-view+json": {
       "model_id": "b56a0778b9e343728fb869e9286b22e4",
       "version_major": 2,
       "version_minor": 0
      },
      "text/plain": [
       "Interactive function <function myInteract at 0x6ffed635cdd0> with 2 widgets\n",
       "  name: TransformText(value='', de…"
      ]
     },
     "metadata": {},
     "output_type": "display_data"
    }
   ],
   "source": [
    "@interact\n",
    "def myInteract(name = input_box(type=str, default = \"\"),\n",
    "              major = input_box(type=str, default = \"\")):\n",
    "    print(\"Hello \" + name + \" Welcome to: \" + major)"
   ]
  },
  {
   "cell_type": "code",
   "execution_count": 8,
   "metadata": {},
   "outputs": [
    {
     "data": {
      "application/vnd.jupyter.widget-view+json": {
       "model_id": "14d2b2ecdcd549c484e3533e674c38ad",
       "version_major": 2,
       "version_minor": 0
      },
      "text/plain": [
       "Interactive function <function myInteract at 0x6ffed638f440> with 4 widgets\n",
       "  name: TransformText(value='', de…"
      ]
     },
     "metadata": {},
     "output_type": "display_data"
    }
   ],
   "source": [
    "def myFunction(a,b):\n",
    "    return a+b\n",
    "\n",
    "@interact\n",
    "def myInteract(name = input_box(type=str, default = \"\", label = \"enter your name: \"),\n",
    "              major = input_box(type=str, default = \"\"),\n",
    "              decade = slider(1800, 2050, 10, default= 1990, label = \"favorite decade: \"),\n",
    "              decade2 = selector([1800,1810,..,2050],default= 1990, label = \"favorite decade2: \")):\n",
    "    print(\"Hello \" + name + \" Welcome to: \" + major + str(myFunction(3,4)))\n"
   ]
  },
  {
   "cell_type": "code",
   "execution_count": 9,
   "metadata": {},
   "outputs": [
    {
     "data": {
      "application/vnd.jupyter.widget-view+json": {
       "model_id": "7b457928c98c41c69ae5a01281944fe4",
       "version_major": 2,
       "version_minor": 0
      },
      "text/plain": [
       "Interactive function <function myInteract at 0x6ffed639e8c0> with 5 widgets\n",
       "  name: TransformText(value='', de…"
      ]
     },
     "metadata": {},
     "output_type": "display_data"
    }
   ],
   "source": [
    "def myFunction(a,b):\n",
    "    return a+b\n",
    "\n",
    "@interact\n",
    "def myInteract(name = input_box(type=str, default = \"\", label = \"enter your name: \"),\n",
    "              major = input_box(type=str, default = \"\"),\n",
    "              decade = slider(1800, 2050, 10, default= 1990, label = \"favorite decade: \"),\n",
    "              decade2 = selector([1800,1810,..,2050],default= 1990, label = \"favorite decade2: \"),\n",
    "              check_me = (\"Check me!\", True)):\n",
    "    print(\"Hello \" + name + \" Welcome to: \" + major + str(myFunction(3,4)))"
   ]
  },
  {
   "cell_type": "code",
   "execution_count": 10,
   "metadata": {},
   "outputs": [
    {
     "data": {
      "application/vnd.jupyter.widget-view+json": {
       "model_id": "de5a5ac69be145dd9560d669e75cc5c0",
       "version_major": 2,
       "version_minor": 0
      },
      "text/plain": [
       "Interactive function <function myInteract at 0x6ffed635c5f0> with 2 widgets\n",
       "  number: TransformIntSlider(value…"
      ]
     },
     "metadata": {},
     "output_type": "display_data"
    }
   ],
   "source": [
    "@interact\n",
    "def myInteract(number  = slider(2, 2050,1, label = \"choose a number: \"),\n",
    "              check_me = (\"Check me!\", True)):\n",
    "    if(check_me == True):\n",
    "        print(number)\n",
    "    else:\n",
    "        print(number.factor())"
   ]
  },
  {
   "cell_type": "code",
   "execution_count": 11,
   "metadata": {},
   "outputs": [
    {
     "data": {
      "application/vnd.jupyter.widget-view+json": {
       "model_id": "8043810cea5c41f3ad49c57df4e5b7bd",
       "version_major": 2,
       "version_minor": 0
      },
      "text/plain": [
       "Interactive function <function myInteract at 0x6ffed638fd40> with 2 widgets\n",
       "  f: EvalText(value='x^2 + 5*x + 6…"
      ]
     },
     "metadata": {},
     "output_type": "display_data"
    }
   ],
   "source": [
    "@interact\n",
    "def myInteract(f  = input_box(default = x^2+5*x+6),\n",
    "              check_me = (\"Factor me!\", True)):\n",
    "    if(check_me == True):\n",
    "        show(f)\n",
    "    else:\n",
    "        show(f.factor())"
   ]
  },
  {
   "cell_type": "code",
   "execution_count": 12,
   "metadata": {},
   "outputs": [
    {
     "ename": "TypeError",
     "evalue": "'module' object is not iterable",
     "output_type": "error",
     "traceback": [
      "\u001b[0;31m---------------------------------------------------------------------------\u001b[0m",
      "\u001b[0;31mTypeError\u001b[0m                                 Traceback (most recent call last)",
      "\u001b[0;32m<ipython-input-12-0cb58452c855>\u001b[0m in \u001b[0;36m<module>\u001b[0;34m\u001b[0m\n\u001b[1;32m      2\u001b[0m \u001b[0;34m\u001b[0m\u001b[0m\n\u001b[1;32m      3\u001b[0m \u001b[0;34m@\u001b[0m\u001b[0minteract\u001b[0m\u001b[0;34m\u001b[0m\u001b[0;34m\u001b[0m\u001b[0m\n\u001b[0;32m----> 4\u001b[0;31m \u001b[0;32mdef\u001b[0m \u001b[0m_\u001b[0m\u001b[0;34m(\u001b[0m\u001b[0mchoosen_color\u001b[0m \u001b[0;34m=\u001b[0m \u001b[0mselector\u001b[0m\u001b[0;34m(\u001b[0m\u001b[0mcolors\u001b[0m\u001b[0;34m)\u001b[0m\u001b[0;34m)\u001b[0m\u001b[0;34m:\u001b[0m\u001b[0;34m\u001b[0m\u001b[0;34m\u001b[0m\u001b[0m\n\u001b[0m\u001b[1;32m      5\u001b[0m       \u001b[0mpl\u001b[0m \u001b[0;34m=\u001b[0m \u001b[0mplot\u001b[0m\u001b[0;34m(\u001b[0m\u001b[0mx\u001b[0m\u001b[0;34m**\u001b[0m\u001b[0mInteger\u001b[0m\u001b[0;34m(\u001b[0m\u001b[0;36m2\u001b[0m\u001b[0;34m)\u001b[0m\u001b[0;34m+\u001b[0m\u001b[0mInteger\u001b[0m\u001b[0;34m(\u001b[0m\u001b[0;36m4\u001b[0m\u001b[0;34m)\u001b[0m\u001b[0;34m*\u001b[0m\u001b[0mx\u001b[0m\u001b[0;34m+\u001b[0m\u001b[0mcos\u001b[0m\u001b[0;34m(\u001b[0m\u001b[0mx\u001b[0m\u001b[0;34m)\u001b[0m\u001b[0;34m,\u001b[0m \u001b[0mx\u001b[0m\u001b[0;34m,\u001b[0m \u001b[0;34m-\u001b[0m\u001b[0mpi\u001b[0m\u001b[0;34m,\u001b[0m \u001b[0mpi\u001b[0m\u001b[0;34m,\u001b[0m \u001b[0mcolor\u001b[0m \u001b[0;34m=\u001b[0m \u001b[0mchoosen_color\u001b[0m\u001b[0;34m)\u001b[0m\u001b[0;34m\u001b[0m\u001b[0;34m\u001b[0m\u001b[0m\n\u001b[1;32m      6\u001b[0m       \u001b[0mpl\u001b[0m\u001b[0;34m.\u001b[0m\u001b[0mshow\u001b[0m\u001b[0;34m(\u001b[0m\u001b[0;34m)\u001b[0m\u001b[0;34m\u001b[0m\u001b[0;34m\u001b[0m\u001b[0m\n",
      "\u001b[0;32m/opt/sagemath-9.2/local/lib/python3.7/site-packages/sage/repl/ipython_kernel/widgets_sagenb.py\u001b[0m in \u001b[0;36mselector\u001b[0;34m(values, label, default, nrows, ncols, width, buttons)\u001b[0m\n\u001b[1;32m    493\u001b[0m     \u001b[0;32mif\u001b[0m \u001b[0mlabel\u001b[0m \u001b[0;32mis\u001b[0m \u001b[0;32mnot\u001b[0m \u001b[0;32mNone\u001b[0m\u001b[0;34m:\u001b[0m\u001b[0;34m\u001b[0m\u001b[0;34m\u001b[0m\u001b[0m\n\u001b[1;32m    494\u001b[0m         \u001b[0mkwds\u001b[0m\u001b[0;34m[\u001b[0m\u001b[0;34m\"description\"\u001b[0m\u001b[0;34m]\u001b[0m \u001b[0;34m=\u001b[0m \u001b[0mlabel\u001b[0m\u001b[0;34m\u001b[0m\u001b[0;34m\u001b[0m\u001b[0m\n\u001b[0;32m--> 495\u001b[0;31m     \u001b[0;32mreturn\u001b[0m \u001b[0mcls\u001b[0m\u001b[0;34m(\u001b[0m\u001b[0;34m**\u001b[0m\u001b[0mkwds\u001b[0m\u001b[0;34m)\u001b[0m\u001b[0;34m\u001b[0m\u001b[0;34m\u001b[0m\u001b[0m\n\u001b[0m\u001b[1;32m    496\u001b[0m \u001b[0;34m\u001b[0m\u001b[0m\n\u001b[1;32m    497\u001b[0m \u001b[0;34m\u001b[0m\u001b[0m\n",
      "\u001b[0;32m/opt/sagemath-9.2/local/lib/python3.7/site-packages/ipywidgets/widgets/widget_selection.py\u001b[0m in \u001b[0;36m__init__\u001b[0;34m(self, *args, **kwargs)\u001b[0m\n\u001b[1;32m    177\u001b[0m         \u001b[0;31m# so we don't have errors the first time validators run\u001b[0m\u001b[0;34m\u001b[0m\u001b[0;34m\u001b[0m\u001b[0;34m\u001b[0m\u001b[0m\n\u001b[1;32m    178\u001b[0m         \u001b[0mself\u001b[0m\u001b[0;34m.\u001b[0m\u001b[0m_initializing_traits_\u001b[0m \u001b[0;34m=\u001b[0m \u001b[0;32mTrue\u001b[0m\u001b[0;34m\u001b[0m\u001b[0;34m\u001b[0m\u001b[0m\n\u001b[0;32m--> 179\u001b[0;31m         \u001b[0moptions\u001b[0m \u001b[0;34m=\u001b[0m \u001b[0m_make_options\u001b[0m\u001b[0;34m(\u001b[0m\u001b[0mkwargs\u001b[0m\u001b[0;34m.\u001b[0m\u001b[0mget\u001b[0m\u001b[0;34m(\u001b[0m\u001b[0;34m'options'\u001b[0m\u001b[0;34m,\u001b[0m \u001b[0;34m(\u001b[0m\u001b[0;34m)\u001b[0m\u001b[0;34m)\u001b[0m\u001b[0;34m)\u001b[0m\u001b[0;34m\u001b[0m\u001b[0;34m\u001b[0m\u001b[0m\n\u001b[0m\u001b[1;32m    180\u001b[0m         \u001b[0mself\u001b[0m\u001b[0;34m.\u001b[0m\u001b[0m_options_full\u001b[0m \u001b[0;34m=\u001b[0m \u001b[0moptions\u001b[0m\u001b[0;34m\u001b[0m\u001b[0;34m\u001b[0m\u001b[0m\n\u001b[1;32m    181\u001b[0m         \u001b[0mself\u001b[0m\u001b[0;34m.\u001b[0m\u001b[0mset_trait\u001b[0m\u001b[0;34m(\u001b[0m\u001b[0;34m'_options_labels'\u001b[0m\u001b[0;34m,\u001b[0m \u001b[0mtuple\u001b[0m\u001b[0;34m(\u001b[0m\u001b[0mi\u001b[0m\u001b[0;34m[\u001b[0m\u001b[0;36m0\u001b[0m\u001b[0;34m]\u001b[0m \u001b[0;32mfor\u001b[0m \u001b[0mi\u001b[0m \u001b[0;32min\u001b[0m \u001b[0moptions\u001b[0m\u001b[0;34m)\u001b[0m\u001b[0;34m)\u001b[0m\u001b[0;34m\u001b[0m\u001b[0;34m\u001b[0m\u001b[0m\n",
      "\u001b[0;32m/opt/sagemath-9.2/local/lib/python3.7/site-packages/ipywidgets/widgets/widget_selection.py\u001b[0m in \u001b[0;36m_make_options\u001b[0;34m(x)\u001b[0m\n\u001b[1;32m    123\u001b[0m \u001b[0;34m\u001b[0m\u001b[0m\n\u001b[1;32m    124\u001b[0m     \u001b[0;31m# only iterate once through the options.\u001b[0m\u001b[0;34m\u001b[0m\u001b[0;34m\u001b[0m\u001b[0;34m\u001b[0m\u001b[0m\n\u001b[0;32m--> 125\u001b[0;31m     \u001b[0mxlist\u001b[0m \u001b[0;34m=\u001b[0m \u001b[0mtuple\u001b[0m\u001b[0;34m(\u001b[0m\u001b[0mx\u001b[0m\u001b[0;34m)\u001b[0m\u001b[0;34m\u001b[0m\u001b[0;34m\u001b[0m\u001b[0m\n\u001b[0m\u001b[1;32m    126\u001b[0m \u001b[0;34m\u001b[0m\u001b[0m\n\u001b[1;32m    127\u001b[0m     \u001b[0;31m# Check if x is an iterable of (label, value) pairs\u001b[0m\u001b[0;34m\u001b[0m\u001b[0;34m\u001b[0m\u001b[0;34m\u001b[0m\u001b[0m\n",
      "\u001b[0;31mTypeError\u001b[0m: 'module' object is not iterable"
     ]
    }
   ],
   "source": [
    "colors = sage.plot.colors\n",
    "\n",
    "@interact\n",
    "def _(choosen_color = selector(colors)):\n",
    "      pl = plot(x^2+4*x+cos(x), x, -pi, pi, color = choosen_color)\n",
    "      pl.show()"
   ]
  },
  {
   "cell_type": "code",
   "execution_count": null,
   "metadata": {},
   "outputs": [],
   "source": [
    "f(x) = cos(x)+sin(x)*cos(x)\n",
    "\n",
    "\n",
    "pl = plot(f(x), x, -10, 20, color = 'red')\n",
    "pl += plot(diff(f(x),x), x, -10, 20)\n",
    "\n",
    "pl.show(xmin=-10, xmax=20, ymin=-10, ymax=20)\n",
    "#pl.save('aaa.pdf')\n",
    "\n"
   ]
  },
  {
   "cell_type": "code",
   "execution_count": null,
   "metadata": {},
   "outputs": [],
   "source": [
    "#sum([1,3,..,2021]) #1+3+5+...+2021\n",
    "sum([x^2 for x in [1,3,..,2021]]  ) #1^2+3^2+5^2+...+2021^2\n",
    "\n"
   ]
  },
  {
   "cell_type": "code",
   "execution_count": null,
   "metadata": {},
   "outputs": [],
   "source": [
    "import random\n",
    "@interact\n",
    "def _(value = selector([random.randint(1,6) for x in [1,2,..,10]])):\n",
    "    print(value)"
   ]
  },
  {
   "cell_type": "code",
   "execution_count": null,
   "metadata": {},
   "outputs": [],
   "source": [
    "@interact\n",
    "def myInteract(f = input_box(default = cos(x)^2 + sin(x)*cos(x)  ),\n",
    "               colorf = selector(['green', 'red', 'blue', 'purple']),\n",
    "              g =  input_box(default = x^3+4*x  )):\n",
    "    f(x) = f\n",
    "    g(x) = g\n",
    "    pl  = plot(f(x), (x,-1,1 ), legend_label=\"$\"+str(f(x))+\"$\", color = colorf, gridlines='minor', axes_labels=['x','y']) \n",
    "    pl += plot(g(x), (x,-1,1 ), legend_label=\"$\"+str(g(x))+\"$\", color = 'red', linestyle='--')\n",
    "    pl.show()\n",
    "\n",
    "#help(plot)"
   ]
  },
  {
   "cell_type": "code",
   "execution_count": null,
   "metadata": {},
   "outputs": [],
   "source": [
    "list_plot([(1,4), (2,5), (3,7), (4,10)], size = 50)"
   ]
  },
  {
   "cell_type": "code",
   "execution_count": null,
   "metadata": {},
   "outputs": [],
   "source": [
    "@interact\n",
    "def _(mylist = input_box(default = [ (x/10, sin(x/10)) for x in  range(0,100)])):\n",
    "    pl = list_plot(mylist, size = 20)\n",
    "    pl.show()"
   ]
  },
  {
   "cell_type": "code",
   "execution_count": null,
   "metadata": {},
   "outputs": [],
   "source": [
    "#returns true is the number is perfect, false otherwise\n",
    "def IsPerfect(number):\n",
    "    list_of_divisors = number.divisors()\n",
    "    sum1 = sum(list_of_divisors) - number  # sum(list_of_divisors[:-1])\n",
    "    return sum1==number\n",
    "    \n",
    "IsPerfect(7)"
   ]
  },
  {
   "cell_type": "code",
   "execution_count": null,
   "metadata": {},
   "outputs": [],
   "source": [
    "2020.divisors()"
   ]
  },
  {
   "cell_type": "code",
   "execution_count": null,
   "metadata": {},
   "outputs": [],
   "source": [
    "@interact\n",
    "def _(x = input_box(default = 5)):\n",
    "    answer = x+1\n",
    "    while(not IsPerfect(answer)):\n",
    "        answer +=1\n",
    "    print(answer)\n",
    "        "
   ]
  },
  {
   "cell_type": "code",
   "execution_count": null,
   "metadata": {},
   "outputs": [],
   "source": [
    "memoization_list = []\n",
    "\n",
    "def nextPerfect(x):\n",
    "    global memoization_list \n",
    "    if(len(memoization_list)>0 and x<max(memoization_list)): #the list has the answer\n",
    "        return memoization_list[-1] #find the smallest value in the list larger than answer\n",
    "    \n",
    "    answer = x+1\n",
    "    while(not IsPerfect(answer)):\n",
    "        answer +=1\n",
    "\n",
    "    memoization_list += [answer]\n",
    "    return answer\n",
    "\n",
    "perfect_list = [(x, nextPerfect(x) ) for x in range(20201)]\n",
    "#pl = list_plot(perfect_list, size = 40)\n",
    "#pl.show()\n",
    "#print(perfect_list)\n",
    "print(memoization_list)"
   ]
  },
  {
   "cell_type": "code",
   "execution_count": null,
   "metadata": {},
   "outputs": [],
   "source": [
    "x= 0\n",
    "memoization_list = []\n",
    "\n",
    "while(x < 20201):\n",
    "    x=nextPerfect(x)\n",
    "    print(x)\n",
    "    memoization_list += [x]"
   ]
  },
  {
   "cell_type": "code",
   "execution_count": null,
   "metadata": {},
   "outputs": [],
   "source": []
  }
 ],
 "metadata": {
  "kernelspec": {
   "display_name": "SageMath 9.2",
   "language": "sage",
   "name": "sagemath"
  },
  "language_info": {
   "codemirror_mode": {
    "name": "ipython",
    "version": 3
   },
   "file_extension": ".py",
   "mimetype": "text/x-python",
   "name": "python",
   "nbconvert_exporter": "python",
   "pygments_lexer": "ipython3",
   "version": "3.7.7"
  }
 },
 "nbformat": 4,
 "nbformat_minor": 4
}
