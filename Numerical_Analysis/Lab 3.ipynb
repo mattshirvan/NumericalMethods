{
 "cells": [
  {
   "cell_type": "markdown",
   "metadata": {},
   "source": [
    "# Numerical Methods Lab - week 3"
   ]
  },
  {
   "cell_type": "markdown",
   "metadata": {},
   "source": [
    "### [5 points] Create a Sage Interact that allows the user to enter a function f (use sin(x) as a default function), and two values a, b for the intervals [a,b]. Then, the interact should graph/plot the function f, on the interval [a,b].\n",
    "### [5 points] To this interact, add a checkbox, so that if selected, it will attempt to find a root for f, in the interval [a,b]. If the checkbox is not selected, no root finding will be included. You can either use a default error of 0.000001, or allow the user to enter a value for the maximum acceptable error for the root estimation.\n",
    "### [5 points bonus - ALL or Nothing for this part] BONUS EXTRA CHALLENGE: collect the root estimates (the midpoints) at each iteration of the Bisection method into a collection of points and plot them (use the list_plot function).\n",
    "### [5 points bonus - ALL or Nothing for this part] BONUS EXTRA CHALLENGE: use the list of points collected above, and create an animation that will show a plot of the first point from the list, then the first and second point from the list, then the first three points, and so on.  (see the example in the first week's presentation file, namely look for the function animate)."
   ]
  },
  {
   "cell_type": "code",
   "execution_count": 1,
   "metadata": {},
   "outputs": [
    {
     "data": {
      "application/vnd.jupyter.widget-view+json": {
       "model_id": "da7835cbf10f481eb89cc9b71adc8db1",
       "version_major": 2,
       "version_minor": 0
      },
      "text/plain": [
       "Interactive function <function lab_three at 0x6ffed63bab90> with 5 widgets\n",
       "  f: EvalText(value='sin(x)', descr…"
      ]
     },
     "metadata": {},
     "output_type": "display_data"
    }
   ],
   "source": [
    "@interact\n",
    "def lab_three(f = input_box(default = sin(x)),\n",
    "              a = input_box(default = 0), \n",
    "              b = input_box(default = 1), \n",
    "              error = input_box( default = 0.00001), find_root = (\"Find Root\", False)):\n",
    "    \n",
    "    # plot function\n",
    "    pl = plot(f,x,a,b)\n",
    "    pl.show()\n",
    "    \n",
    "    # checkbox clicked by user\n",
    "    if find_root == True:\n",
    "        \n",
    "        # list for midpoints\n",
    "        root_estimates = []\n",
    "        \n",
    "        # check if bisection conditions are met\n",
    "        if f(a) * f(b) > 0:\n",
    "            print(\"must be less than zero\")\n",
    "            return\n",
    "        else:\n",
    "            while(b-a > error):\n",
    "\n",
    "                # calculate c such that a <= c <= b\n",
    "                c = (a + b) / 2\n",
    "                \n",
    "                # collect the root estimates\n",
    "                root_estimates.append(c)\n",
    "                \n",
    "                # print each interval and c\n",
    "                print(f\"current interval {a, b} with mid point {str(float(c))} and f(c) = {str(float(f(c)))} and error of {str(float((b-a)/2))}\")\n",
    "\n",
    "                if f(c) == 0:\n",
    "                    print(\"found solution \" + str(float(c)))\n",
    "                    return\n",
    "\n",
    "                elif f(a) * f(c) < 0:\n",
    "                    b = c\n",
    "\n",
    "                else:\n",
    "                    a = c\n",
    "\n",
    "        print(\"we found an exact solution \" + str(float(c)))\n",
    "        \n",
    "        # plot list of midpoints\n",
    "        list_plot(root_estimates).show()\n",
    "        \n",
    "        # animate root estimates\n",
    "        a = animate([list_plot(root_estimates,xmin=0, xmax=1, ymin=0, ymax=1) for i in root_estimates])\n",
    "        a.show()"
   ]
  },
  {
   "cell_type": "code",
   "execution_count": null,
   "metadata": {},
   "outputs": [],
   "source": []
  }
 ],
 "metadata": {
  "kernelspec": {
   "display_name": "SageMath 9.2",
   "language": "sage",
   "name": "sagemath"
  },
  "language_info": {
   "codemirror_mode": {
    "name": "ipython",
    "version": 3
   },
   "file_extension": ".py",
   "mimetype": "text/x-python",
   "name": "python",
   "nbconvert_exporter": "python",
   "pygments_lexer": "ipython3",
   "version": "3.7.7"
  }
 },
 "nbformat": 4,
 "nbformat_minor": 4
}
