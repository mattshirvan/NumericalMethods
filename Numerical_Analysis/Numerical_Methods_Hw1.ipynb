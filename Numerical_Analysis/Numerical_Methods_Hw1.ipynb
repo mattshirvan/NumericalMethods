{
 "cells": [
  {
   "cell_type": "markdown",
   "metadata": {},
   "source": [
    "# Numerical Methods Homework 1"
   ]
  },
  {
   "cell_type": "markdown",
   "metadata": {},
   "source": [
    "## Problem 1 (practice if statements): Randomly generate two integers between 1 and 15 inclusively, let's call them a and b. Then, prompt the use to enter the answer to the question a+b. If it is correct congratulate the user, otherwise encourage the user to try again.\n",
    "- For example, if a = 4, and b =10, then your program should output:\n",
    "-                 Please enter the answer to:  4 + 10 = \n",
    "- If the user enters 14 then output \"Well done!\". Otherwise output: \"Try again!\""
   ]
  },
  {
   "cell_type": "code",
   "execution_count": 23,
   "metadata": {},
   "outputs": [
    {
     "name": "stdout",
     "output_type": "stream",
     "text": [
      "Please enter the answer to: 8 + 6 = 14\n",
      "Well done!\n"
     ]
    },
    {
     "data": {
      "text/html": [
       "<html><script type=\"math/tex; mode=display\">\\newcommand{\\Bold}[1]{\\mathbf{#1}}\\verb|8|\\phantom{\\verb!x!}\\verb|+|\\phantom{\\verb!x!}\\verb|6|\\phantom{\\verb!x!}\\verb|=|\\phantom{\\verb!x!}\\verb|14|</script></html>"
      ],
      "text/latex": [
       "\\begin{math}\n",
       "\\newcommand{\\Bold}[1]{\\mathbf{#1}}\\verb|8|\\phantom{\\verb!x!}\\verb|+|\\phantom{\\verb!x!}\\verb|6|\\phantom{\\verb!x!}\\verb|=|\\phantom{\\verb!x!}\\verb|14|\n",
       "\\end{math}"
      ],
      "text/plain": [
       "'8 + 6 = 14'"
      ]
     },
     "metadata": {},
     "output_type": "display_data"
    }
   ],
   "source": [
    "import random\n",
    "\n",
    "# randomly generate two ints a,b [1, 15]\n",
    "a = random.randint(1, 15)\n",
    "b = random.randint(1, 15)\n",
    "\n",
    "# get user input\n",
    "answer = int(input(f\"Please enter the answer to: {a} + {b} = \"))\n",
    "\n",
    "# check answer\n",
    "while(answer != (a+b)):\n",
    "    \n",
    "    # prompt user again if incorrect\n",
    "    answer = int(input(\"Try again!\"))\n",
    "\n",
    "# correct answer\n",
    "else:\n",
    "    print(\"Well done!\")\n",
    "    show(f\"{a} + {b} = {a + b}\")"
   ]
  },
  {
   "cell_type": "markdown",
   "metadata": {},
   "source": [
    "## Problem 2: Create a Sage Interact that will ask the user to enter some text. Then, your code should display the number of vowels in that given text."
   ]
  },
  {
   "cell_type": "code",
   "execution_count": 22,
   "metadata": {},
   "outputs": [
    {
     "name": "stdout",
     "output_type": "stream",
     "text": [
      "Enter a stringadfoiajerraiejfa\n"
     ]
    },
    {
     "data": {
      "application/vnd.jupyter.widget-view+json": {
       "model_id": "8d6f85740bd142a4b20069bebe049f45",
       "version_major": 2,
       "version_minor": 0
      },
      "text/plain": [
       "Interactive function <function _ at 0x6ffed6213440> with 1 widget\n",
       "  f: Text(value='adfoiajerraiejfa', descript…"
      ]
     },
     "metadata": {},
     "output_type": "display_data"
    }
   ],
   "source": [
    "@interact\n",
    "def _(f = input(\"Enter a string\"), ):\n",
    "    # list of vowels\n",
    "    vowels = ['a', 'e', 'i', 'o', 'u',]\n",
    "    \n",
    "    # count vowels\n",
    "    vowels_in_string = [vowel for vowel in f.lower() if vowel in vowels]\n",
    "        \n",
    "    # display results\n",
    "    show(f\"There are {len(vowels_in_string)} vowels ({vowels_in_string}) in {f}\")"
   ]
  },
  {
   "cell_type": "markdown",
   "metadata": {},
   "source": [
    "## Problem 3: Create a Sage Interact that will ask the user to enter two numbers. Then, your code should display all the prime numbers that are between those two numbers."
   ]
  },
  {
   "cell_type": "code",
   "execution_count": 37,
   "metadata": {},
   "outputs": [
    {
     "data": {
      "application/vnd.jupyter.widget-view+json": {
       "model_id": "5c671cc0b3df4103aa8454678774b504",
       "version_major": 2,
       "version_minor": 0
      },
      "text/plain": [
       "Interactive function <function _ at 0x6ffed6010170> with 2 widgets\n",
       "  a: EvalText(value='', description='a', la…"
      ]
     },
     "metadata": {},
     "output_type": "display_data"
    }
   ],
   "source": [
    "@interact\n",
    "def _(a = input_box(type=int), b = input_box(type=int)):\n",
    "    P = Primes()\n",
    "    primes = [prime for prime in range(a+1, b-1) if prime in P]\n",
    "    show(primes)"
   ]
  },
  {
   "cell_type": "code",
   "execution_count": null,
   "metadata": {},
   "outputs": [],
   "source": []
  }
 ],
 "metadata": {
  "kernelspec": {
   "display_name": "SageMath 9.2",
   "language": "sage",
   "name": "sagemath"
  },
  "language_info": {
   "codemirror_mode": {
    "name": "ipython",
    "version": 3
   },
   "file_extension": ".py",
   "mimetype": "text/x-python",
   "name": "python",
   "nbconvert_exporter": "python",
   "pygments_lexer": "ipython3",
   "version": "3.7.7"
  }
 },
 "nbformat": 4,
 "nbformat_minor": 4
}
