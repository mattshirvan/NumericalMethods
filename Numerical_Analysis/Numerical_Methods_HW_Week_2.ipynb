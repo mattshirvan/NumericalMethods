{
 "cells": [
  {
   "cell_type": "markdown",
   "metadata": {},
   "source": [
    "# Bisection Algorithm\n"
   ]
  },
  {
   "cell_type": "code",
   "execution_count": 3,
   "metadata": {},
   "outputs": [
    {
     "data": {
      "application/vnd.jupyter.widget-view+json": {
       "model_id": "04ef32e4a9d1473abc55b4ef4506b746",
       "version_major": 2,
       "version_minor": 0
      },
      "text/plain": [
       "Interactive function <function bisection at 0x6ffed1b1a050> with 4 widgets\n",
       "  f: EvalText(value='x^3 - 25', des…"
      ]
     },
     "metadata": {},
     "output_type": "display_data"
    }
   ],
   "source": [
    "@interact\n",
    "def bisection(f = input_box(default = x^3 - 25), a = input_box(default = 2.5), b = input_box(default = 3), error = input_box(default = 0.00001\n",
    ")):\n",
    "    \n",
    "    pl = plot(f,x,a,b)\n",
    "    pl.show()\n",
    "    \n",
    "    # check if bisection conditions are met\n",
    "    if f(a) * f(b) > 0:\n",
    "        print(\"must be less than zero\")\n",
    "        return\n",
    "    else:\n",
    "        while(b-a > error):\n",
    "            \n",
    "            # calculate c such that a <= c <= b\n",
    "            c = (a + b) / 2\n",
    "            \n",
    "            # print each interval and c\n",
    "            print(f\"current interval {a, b} with mid point {str(float(c))} and f(c) = {str(float(f(c)))} and error of {str(float((b-a)/2))}\")\n",
    "            \n",
    "            if f(c) == 0:\n",
    "                print(\"found solution \" + str(float(c)))\n",
    "                return\n",
    "\n",
    "            elif f(a) * f(c) < 0:\n",
    "                b = c\n",
    "\n",
    "            else:\n",
    "                a = c\n",
    "                \n",
    "        print(\"we found an exact solution \" + str(float(c)))"
   ]
  },
  {
   "cell_type": "code",
   "execution_count": null,
   "metadata": {},
   "outputs": [],
   "source": []
  }
 ],
 "metadata": {
  "kernelspec": {
   "display_name": "SageMath 9.2",
   "language": "sage",
   "name": "sagemath"
  },
  "language_info": {
   "codemirror_mode": {
    "name": "ipython",
    "version": 3
   },
   "file_extension": ".py",
   "mimetype": "text/x-python",
   "name": "python",
   "nbconvert_exporter": "python",
   "pygments_lexer": "ipython3",
   "version": "3.7.7"
  }
 },
 "nbformat": 4,
 "nbformat_minor": 4
}
