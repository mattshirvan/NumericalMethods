{
 "cells": [
  {
   "cell_type": "markdown",
   "metadata": {},
   "source": [
    "# Numerical Methods HW - week 5"
   ]
  },
  {
   "cell_type": "markdown",
   "metadata": {},
   "source": [
    "## Implement a SageMath interact that allows the user to specify a list of points and it will compute the polynomial of interpolation using:\n",
    "\n",
    "- Lagrange formula\n",
    "- Newton’s formula"
   ]
  },
  {
   "cell_type": "code",
   "execution_count": 5,
   "metadata": {},
   "outputs": [
    {
     "data": {
      "application/vnd.jupyter.widget-view+json": {
       "model_id": "c66780ec54ae41c2b535ae394491d1a9",
       "version_major": 2,
       "version_minor": 0
      },
      "text/plain": [
       "Interactive function <function polynomials at 0x6ffed14c0f80> with 4 widgets\n",
       "  func: EvalText(value='0', descr…"
      ]
     },
     "metadata": {},
     "output_type": "display_data"
    }
   ],
   "source": [
    "@interact\n",
    "def polynomials(points = input_box(default = [(0, 8), (1,12), (3, 2), (4, 6), (8,0)])):\n",
    "    \n",
    "    # set value\n",
    "    f(x) = 0\n",
    "    \n",
    "    # Range minimum\n",
    "    a = min(pt[0] for pt in points)\n",
    "    \n",
    "    # Range max\n",
    "    b = max(pt[0] for pt in points)\n",
    "   \n",
    "    # Lagranges Method\n",
    "    for i in range(len(points)):\n",
    "\n",
    "        # l_i(x) \n",
    "        li(x) = 1\n",
    "\n",
    "        # Iterate through elements\n",
    "        for j in range(len(points)):\n",
    "\n",
    "                # Make sure not same element\n",
    "                if j != i:\n",
    "\n",
    "                    # compute cardinal polynomials\n",
    "                    li *= (x-points[j][0])/(points[i][0] - points[j][0])\n",
    "\n",
    "        # compute lagrange summation\n",
    "        f += li(x)*points[i][1]\n",
    "\n",
    "    pl = list_plot(points, color=\"green\", size=50)\n",
    "    pl += plot(f(x), a, b, color=\"red\")\n",
    "    pl.show()\n",
    "    show(f(x))"
   ]
  },
  {
   "cell_type": "code",
   "execution_count": null,
   "metadata": {},
   "outputs": [],
   "source": []
  }
 ],
 "metadata": {
  "kernelspec": {
   "display_name": "SageMath 9.2",
   "language": "sage",
   "name": "sagemath"
  },
  "language_info": {
   "codemirror_mode": {
    "name": "ipython",
    "version": 3
   },
   "file_extension": ".py",
   "mimetype": "text/x-python",
   "name": "python",
   "nbconvert_exporter": "python",
   "pygments_lexer": "ipython3",
   "version": "3.7.7"
  }
 },
 "nbformat": 4,
 "nbformat_minor": 4
}
