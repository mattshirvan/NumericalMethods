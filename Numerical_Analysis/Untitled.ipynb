{
 "cells": [
  {
   "cell_type": "code",
   "execution_count": 6,
   "metadata": {},
   "outputs": [
    {
     "data": {
      "application/vnd.jupyter.widget-view+json": {
       "model_id": "eb5adf495ba046bf8294e7eff46ee553",
       "version_major": 2,
       "version_minor": 0
      },
      "text/plain": [
       "Interactive function <function Gibbs at 0x6ffed4d45170> with 2 widgets\n",
       "  f: EvalText(value='sin(x)', descripti…"
      ]
     },
     "metadata": {},
     "output_type": "display_data"
    }
   ],
   "source": [
    "@interact\n",
    "def Gibbs( f = input_box(default=sin(x)), n = input_box(default = 20)):\n",
    "    # Create plot\n",
    "    pl = plot(f(x), x, fill=True, gridlines='minor', fillalpha=0.2)\n",
    "    \n",
    "    # plots \n",
    "    list_plots = [pl]\n",
    "    \n",
    "    # Evaluate\n",
    "    for i in range(n):\n",
    "        pl += line([(i, f(x))], color='red')\n",
    "        \n",
    "        # Add to plots list\n",
    "        list_plots += [pl]\n",
    "        \n",
    "    # Animate\n",
    "    a = animate(list_plots)\n",
    "    a.show()"
   ]
  },
  {
   "cell_type": "code",
   "execution_count": null,
   "metadata": {},
   "outputs": [],
   "source": []
  }
 ],
 "metadata": {
  "kernelspec": {
   "display_name": "SageMath 9.2",
   "language": "sage",
   "name": "sagemath"
  },
  "language_info": {
   "codemirror_mode": {
    "name": "ipython",
    "version": 3
   },
   "file_extension": ".py",
   "mimetype": "text/x-python",
   "name": "python",
   "nbconvert_exporter": "python",
   "pygments_lexer": "ipython3",
   "version": "3.7.7"
  }
 },
 "nbformat": 4,
 "nbformat_minor": 4
}
