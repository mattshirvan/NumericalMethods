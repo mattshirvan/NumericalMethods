{
 "cells": [
  {
   "cell_type": "code",
   "execution_count": 8,
   "metadata": {},
   "outputs": [
    {
     "data": {
      "application/vnd.jupyter.widget-view+json": {
       "model_id": "b407c3d6b1da46529b9b411f3970192a",
       "version_major": 2,
       "version_minor": 0
      },
      "text/plain": [
       "Interactive function <function curve at 0x6ffed19a3710> with 4 widgets\n",
       "  f: EvalText(value='e^x', description=…"
      ]
     },
     "metadata": {},
     "output_type": "display_data"
    }
   ],
   "source": [
    "@interact\n",
    "def curve(f = input_box(default = e^x), \n",
    "          a = input_box(default = 2), \n",
    "          b = input_box(default = 4), \n",
    "          n = input_box(default = 25)):\n",
    "    \n",
    "    # Create plot\n",
    "    pl = plot(f(x), x, a, b, fill=True, fillcolor=\"green\", gridlines='minor', fillalpha=0.2)\n",
    "\n",
    "    # a and b intervals\n",
    "    xi = a; xn =b\n",
    "    \n",
    "    # New mid point\n",
    "    mid = (xi+xn)/2\n",
    "    \n",
    "    # Create intervals\n",
    "    for i in range(n):\n",
    "        \n",
    "        # Switch interval\n",
    "        xn = mid\n",
    "\n",
    "        # New mid point\n",
    "        mid = (xi+xn)/2\n",
    "        \n",
    "        # Show the estimated area of each interval\n",
    "        show(f\"Estimated Area: {(xn-xi)*(f(xi)+4*f(mid)+f(xn))/6}\")\n",
    "\n",
    "    pl.show()"
   ]
  },
  {
   "cell_type": "code",
   "execution_count": null,
   "metadata": {},
   "outputs": [],
   "source": []
  }
 ],
 "metadata": {
  "kernelspec": {
   "display_name": "SageMath 9.2",
   "language": "sage",
   "name": "sagemath"
  },
  "language_info": {
   "codemirror_mode": {
    "name": "ipython",
    "version": 3
   },
   "file_extension": ".py",
   "mimetype": "text/x-python",
   "name": "python",
   "nbconvert_exporter": "python",
   "pygments_lexer": "ipython3",
   "version": "3.7.7"
  }
 },
 "nbformat": 4,
 "nbformat_minor": 4
}
