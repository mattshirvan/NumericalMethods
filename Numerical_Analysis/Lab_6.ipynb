{
 "cells": [
  {
   "cell_type": "markdown",
   "metadata": {},
   "source": [
    "# Numerical Methods Lab - 6"
   ]
  },
  {
   "cell_type": "markdown",
   "metadata": {},
   "source": [
    "### Requirements:\n",
    "- Create a SageMath interact that allows the user to enter a list of points (use the default (0, 8), (1,12), ( 3, 2), (4, 6), (8,0) )\n",
    "- Then, compute the polynomial of interpolation for the first point in the list (using either Lagrange or Newton form) and plot this polynomial (use some color)\n",
    "- Then,  compute the polynomial of interpolation for the first two points in the list (using either Lagrange or Newton form) and plot this polynomial (if possible, choose another color)\n",
    "- Then,  compute the polynomial of interpolation for the first three points in the list (using either Lagrange or Newton form) and plot this polynomial (if possible, use another color)\n",
    "- Your final plot should contain all these plots (“add” them up)."
   ]
  },
  {
   "cell_type": "code",
   "execution_count": 65,
   "metadata": {},
   "outputs": [
    {
     "data": {
      "application/vnd.jupyter.widget-view+json": {
       "model_id": "9ccb3180e237494eab1441d9953fac81",
       "version_major": 2,
       "version_minor": 0
      },
      "text/plain": [
       "Interactive function <function polynomials at 0x6ffed0d46170> with 1 widget\n",
       "  points: EvalText(value='[(0, 8),…"
      ]
     },
     "metadata": {},
     "output_type": "display_data"
    }
   ],
   "source": [
    "@interact\n",
    "def polynomials(points = input_box(default = [(0, 8), (1,12), (3, 2), (4, 6), (8,0)])):\n",
    "\n",
    "    # create plot to add points\n",
    "    pl = list_plot(points, color=\"black\", size=30)\n",
    "\n",
    "    # Range minimum\n",
    "    a = min(pt[0] for pt in points)\n",
    "    \n",
    "    # Range max\n",
    "    b = max(pt[0] for pt in points)\n",
    "\n",
    "    # colors\n",
    "    clist = [\"blue\", \"green\", \"red\", \"yellow\"]\n",
    "    \n",
    "    # function\n",
    "    f(x) = 0\n",
    "    \n",
    "    # Lagranges Method\n",
    "    for i in range(len(points)):\n",
    "\n",
    "        # l_i(x) \n",
    "        li(x) = 1\n",
    "\n",
    "        # Iterate through elements\n",
    "        for j in range(len(points)):\n",
    "\n",
    "                # Make sure not same element\n",
    "                if j != i:\n",
    "\n",
    "                    # compute cardinal polynomials\n",
    "                    li *= (x-points[j][0])/(points[i][0] - points[j][0])\n",
    "\n",
    "        # compute lagrange summation\n",
    "        f += li(x)*points[i][1]\n",
    "        \n",
    "        # choose color\n",
    "        color = clist[(i-1)%len(clist)]\n",
    "        \n",
    "        # add to plots\n",
    "        pl += plot(f(x), a, b, color=color)\n",
    "\n",
    "    pl.show()\n",
    "    show(f(x))"
   ]
  },
  {
   "cell_type": "code",
   "execution_count": null,
   "metadata": {},
   "outputs": [],
   "source": []
  }
 ],
 "metadata": {
  "kernelspec": {
   "display_name": "SageMath 9.2",
   "language": "sage",
   "name": "sagemath"
  },
  "language_info": {
   "codemirror_mode": {
    "name": "ipython",
    "version": 3
   },
   "file_extension": ".py",
   "mimetype": "text/x-python",
   "name": "python",
   "nbconvert_exporter": "python",
   "pygments_lexer": "ipython3",
   "version": "3.7.7"
  }
 },
 "nbformat": 4,
 "nbformat_minor": 4
}
