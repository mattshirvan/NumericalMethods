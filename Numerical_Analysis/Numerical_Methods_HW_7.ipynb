{
 "cells": [
  {
   "cell_type": "markdown",
   "metadata": {},
   "source": [
    "# Numerical Methods HW - week 7\n",
    "\n",
    "- Approximate the area under a curve f(x) with a rectangle and with a trapezoid.\n",
    "\n",
    "- Create a SageMath interact that will allow the user to enter the function f, the interval [a,b], and an integer n.\n",
    "\n",
    "- Split the interval [a,b] in n subintervals of equal lengths. \n",
    "- Compute the area of each rectangle/trapezoid.\n",
    "- Sum up those areas. \n",
    "- Display the sum: the approximation for the given area.\n",
    "- Create and show a graph (ideally an animation!) of those subareas."
   ]
  },
  {
   "cell_type": "code",
   "execution_count": 1,
   "metadata": {},
   "outputs": [
    {
     "data": {
      "application/vnd.jupyter.widget-view+json": {
       "model_id": "143a1b92599440079312345f797bfa6f",
       "version_major": 2,
       "version_minor": 0
      },
      "text/plain": [
       "Interactive function <function curve at 0x6ffed63bec20> with 6 widgets\n",
       "  f: EvalText(value='e^x', description=…"
      ]
     },
     "metadata": {},
     "output_type": "display_data"
    }
   ],
   "source": [
    "\n",
    "@interact\n",
    "def curve(f = input_box(default = e^x), \n",
    "          a = input_box(default = 2), \n",
    "          b = input_box(default = 4), \n",
    "          n = input_box(default = 5),\n",
    "          trapezoid = False, \n",
    "          rectangle = False):\n",
    "    \n",
    "    # Create plot\n",
    "    pl = plot(f(x), x, a, b, fill=True, fillcolor=\"green\", gridlines='minor', fillalpha=0.2)\n",
    "    \n",
    "    # plots \n",
    "    list_plots = [pl]\n",
    "    \n",
    "    # Estimated area\n",
    "    estimated_area = 0\n",
    "    \n",
    "    # Check if rectangle\n",
    "    if rectangle:\n",
    "        \n",
    "        # difference of a-b for \n",
    "        d = (b-a)/n\n",
    "\n",
    "        # Create rectangles\n",
    "        for i in range(n):\n",
    "            \n",
    "            # Create intervals\n",
    "            xi = a + i*d\n",
    "            xn = a + (i+1)*d\n",
    "            \n",
    "            # create midpoint\n",
    "            mid = (xn + xi)/2 \n",
    "            \n",
    "            # Create lines and plots\n",
    "            pl += line([(xi, 0), (xi, f(mid))], color='red')\n",
    "            pl += line([(xn, 0), (xn, f(mid))], color='red')\n",
    "            pl += line([(xi, f(mid)), (xn, f(mid))], color='red')\n",
    "            \n",
    "            # Add to plots list\n",
    "            list_plots += [pl]\n",
    "            \n",
    "            # Compute estimated area\n",
    "            estimated_area += (xn-xi)*(f(mid))\n",
    "            \n",
    "        # Show the estimated area\n",
    "        show(f\"Estimated Area: {estimated_area.n()}\")\n",
    "    \n",
    "    # Check if Trapezoid\n",
    "    if trapezoid:\n",
    "        \n",
    "        # difference of a-b for \n",
    "        d = (b-a)/n\n",
    "        \n",
    "        # Create trapezoids\n",
    "        for i in range(n):\n",
    "            \n",
    "            # Create intervals\n",
    "            xi = a + i*d\n",
    "            xn = a + (i+1)*d\n",
    "            \n",
    "            # Create lines and plots\n",
    "            pl += line([(xi, 0), (xi, f(xi))], color='red')\n",
    "            pl += line([(xn, 0), (xn, f(xn))], color='red')\n",
    "            pl += line([(xi, f(xi)), (xn, f(xn))], color='red')\n",
    "            \n",
    "            # Add to plots list\n",
    "            list_plots += [pl]\n",
    "            \n",
    "            # Compute estimated area\n",
    "            estimated_area += (xn-xi)*((f(xi)+f(xn))/2)\n",
    "        \n",
    "        # Show the estimated area\n",
    "        show(f\"Estimated Area: {estimated_area.n()}\")\n",
    "    \n",
    "    # Show the exact area\n",
    "    show(f\"Exact Area: {integrate(f(x), x, a,b).n()}\")\n",
    "    \n",
    "    # Animate\n",
    "    a = animate(list_plots)\n",
    "    a.show()"
   ]
  },
  {
   "cell_type": "code",
   "execution_count": null,
   "metadata": {},
   "outputs": [],
   "source": []
  }
 ],
 "metadata": {
  "kernelspec": {
   "display_name": "SageMath 9.2",
   "language": "sage",
   "name": "sagemath"
  },
  "language_info": {
   "codemirror_mode": {
    "name": "ipython",
    "version": 3
   },
   "file_extension": ".py",
   "mimetype": "text/x-python",
   "name": "python",
   "nbconvert_exporter": "python",
   "pygments_lexer": "ipython3",
   "version": "3.7.7"
  }
 },
 "nbformat": 4,
 "nbformat_minor": 4
}
