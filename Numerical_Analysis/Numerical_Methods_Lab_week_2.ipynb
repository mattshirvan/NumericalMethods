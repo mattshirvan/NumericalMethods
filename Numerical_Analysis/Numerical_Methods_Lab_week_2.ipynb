{
 "cells": [
  {
   "cell_type": "markdown",
   "metadata": {},
   "source": [
    "# Numerical Methods Lab - week 2"
   ]
  },
  {
   "cell_type": "code",
   "execution_count": 2,
   "metadata": {},
   "outputs": [],
   "source": [
    "import random"
   ]
  },
  {
   "cell_type": "markdown",
   "metadata": {},
   "source": [
    "## Problem 1: \n",
    "- Randomly generate a number x, between 1 and 100 (inclusively). Then ask the user to guess the value. As long as the user's - - answer is not correct, output \"too large\" (if user's input is larger than x) of output \"too small\" (if the user's input is - - smaller than x). Once user's input is correct output: \"Well done! You won the challenge!\""
   ]
  },
  {
   "cell_type": "code",
   "execution_count": 3,
   "metadata": {},
   "outputs": [
    {
     "name": "stdout",
     "output_type": "stream",
     "text": [
      "Guess a number between 1 - 10040\n",
      "Too small65\n",
      "Too small85\n",
      "Too large70\n",
      "Too small75\n",
      "Too small80\n",
      "Too small82\n",
      "Too small83\n",
      "Too small84\n",
      "Well done! You won the challenge!\n"
     ]
    }
   ],
   "source": [
    "# get the user's guess\n",
    "guess = int(input(\"Guess a number between 1 - 100\"))\n",
    "\n",
    "# set a value\n",
    "value = random.randint(1, 100)\n",
    "\n",
    "# guess incorrectly\n",
    "while(guess != value):\n",
    "    \n",
    "    # guess is too large\n",
    "    if guess > value:\n",
    "        guess = int(input(\"Too large\"))\n",
    "        \n",
    "    # guess is too low\n",
    "    elif guess < value:\n",
    "        guess = int(input(\"Too small\"))\n",
    "\n",
    "# user guessed correctly\n",
    "else:\n",
    "    print(\"Well done! You won the challenge!\")"
   ]
  },
  {
   "cell_type": "markdown",
   "metadata": {},
   "source": [
    "## Problem 2:\n",
    "- Change the previous program so at the end of the game it displays how many times the user tried to guess the value of x. If - - the user tries too many times (say 6 times) then end the game and display \"Game Over!\""
   ]
  },
  {
   "cell_type": "code",
   "execution_count": 4,
   "metadata": {},
   "outputs": [
    {
     "name": "stdout",
     "output_type": "stream",
     "text": [
      "Guess a number between 1 - 10065\n",
      "Too large35\n",
      "Too large20\n",
      "Too large5\n",
      "Too small15\n",
      "Too large12\n",
      "Too large8\n",
      "Game Over!\n",
      "You guessed 6 times\n"
     ]
    }
   ],
   "source": [
    "# get the user's guess\n",
    "guess = int(input(\"Guess a number between 1 - 100\"))\n",
    "\n",
    "# set a value\n",
    "value = random.randint(1, 100)\n",
    "\n",
    "# number of guesses\n",
    "guesses = 0\n",
    "\n",
    "# guess incorrectly\n",
    "while(guess != value and guesses < 6):\n",
    "    \n",
    "    # guess is too large\n",
    "    if guess > value:\n",
    "        guess = int(input(\"Too large\"))\n",
    "        guesses += 1\n",
    "        \n",
    "    # guess is too low\n",
    "    elif guess < value:\n",
    "        guess = int(input(\"Too small\"))\n",
    "        guesses += 1\n",
    "\n",
    "# user guessed correctly\n",
    "if guess == value and guesses < 6:\n",
    "    print(f\"Well done! You won the challenge in {guesses} guesses\")\n",
    "    \n",
    "# too many incorrect guesses\n",
    "else:\n",
    "    print(\"Game Over!\")\n",
    "    print(f\"You guessed {guesses} times\")"
   ]
  },
  {
   "cell_type": "code",
   "execution_count": null,
   "metadata": {},
   "outputs": [],
   "source": []
  }
 ],
 "metadata": {
  "kernelspec": {
   "display_name": "SageMath 9.2",
   "language": "sage",
   "name": "sagemath"
  },
  "language_info": {
   "codemirror_mode": {
    "name": "ipython",
    "version": 3
   },
   "file_extension": ".py",
   "mimetype": "text/x-python",
   "name": "python",
   "nbconvert_exporter": "python",
   "pygments_lexer": "ipython3",
   "version": "3.7.7"
  }
 },
 "nbformat": 4,
 "nbformat_minor": 4
}
