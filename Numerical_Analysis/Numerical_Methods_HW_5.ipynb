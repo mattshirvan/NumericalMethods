{
 "cells": [
  {
   "cell_type": "markdown",
   "metadata": {},
   "source": [
    "# Numerical Methods HW - week 5"
   ]
  },
  {
   "cell_type": "markdown",
   "metadata": {},
   "source": [
    "## Implement a SageMath interact that allows the user to specify a list of points and it will compute the polynomial of interpolation using:\n",
    "\n",
    "- Lagrange formula\n",
    "- Newton’s formula"
   ]
  },
  {
   "cell_type": "code",
   "execution_count": 159,
   "metadata": {},
   "outputs": [
    {
     "data": {
      "application/vnd.jupyter.widget-view+json": {
       "model_id": "d283f75c88df4e55be4921fd9231d214",
       "version_major": 2,
       "version_minor": 0
      },
      "text/plain": [
       "Interactive function <function polynomials at 0x6ffece6563b0> with 3 widgets\n",
       "  points: EvalText(value='[(0, 8)…"
      ]
     },
     "metadata": {},
     "output_type": "display_data"
    }
   ],
   "source": [
    "@interact\n",
    "def polynomials(points = input_box(default = [(0, 8), (1,12), ( 3, 2), (4, 6), (8,0)]), \n",
    "             newtons = (\"Newton Polynomial\", False), \n",
    "             lagranges = (\"Lagrange Polynomial\", False)):\n",
    "    \n",
    "    ##############\n",
    "    # Initialize #\n",
    "    ##############\n",
    "    \n",
    "    # Function\n",
    "    f(x) = 0;\n",
    "    \n",
    "    # Range minimum\n",
    "    a = min(pt[0] for pt in points)\n",
    "    \n",
    "    # Range max\n",
    "    b = max(pt[0] for pt in points)\n",
    "    \n",
    "    #######################################\n",
    "    # Lagrange's Polynomial Interpolation #\n",
    "    #######################################\n",
    "    if lagranges:\n",
    "    \n",
    "        # Iterate through sequence of points\n",
    "        for i in range(len(points)):\n",
    "\n",
    "            # l_i(x) \n",
    "            li(x) = 1\n",
    "\n",
    "            # Iterate through elements\n",
    "            for j in range(len(points)):\n",
    "\n",
    "                    # Make sure not same element\n",
    "                    if j != i:\n",
    "\n",
    "                        # Compute cardinal polynomials\n",
    "                        li *= (x-points[j][0])/(points[i][0] - points[j][0])\n",
    "\n",
    "            # Compute Lagrange summation\n",
    "            f += li(x)*points[i][1]\n",
    "            \n",
    "    #####################################    \n",
    "    # Newton's Polynomial Interpolation #\n",
    "    #####################################\n",
    "    if newtons:\n",
    "              \n",
    "        # Lists for x and y points\n",
    "        X = list(zip(*points))[0]; Y = list(zip(*points))[1]\n",
    "\n",
    "        # p(x) = y0\n",
    "        p(x) = Y[0]; g(x) = 1\n",
    "        \n",
    "        # Newton interpolation polynomial\n",
    "        for i in range(1, len(points)):\n",
    "            \n",
    "            # Compute polynomial\n",
    "            g(x) = g(x) * (x - X[i-1])\n",
    "            \n",
    "            # Compute coefficient \n",
    "            c = (Y[i] - p(X[i]))/g(X[i]) # <------- TODO \n",
    "            \n",
    "            # Compute newtons interpolation\n",
    "            p(x) = p(x) + c*g(x)\n",
    "            \n",
    "        # Add to function\n",
    "        f += p(x)\n",
    "\n",
    "    ########                     \n",
    "    # Plot #                   \n",
    "    ########\n",
    "    pl = list_plot(points, color=\"green\", size=50)\n",
    "    pl += plot(f(x), a, b, color=\"red\")\n",
    "    pl.show()\n",
    "    show(f(x).expand())"
   ]
  },
  {
   "cell_type": "code",
   "execution_count": null,
   "metadata": {},
   "outputs": [],
   "source": [
    "\n"
   ]
  },
  {
   "cell_type": "code",
   "execution_count": null,
   "metadata": {},
   "outputs": [],
   "source": []
  }
 ],
 "metadata": {
  "kernelspec": {
   "display_name": "SageMath 9.2",
   "language": "sage",
   "name": "sagemath"
  },
  "language_info": {
   "codemirror_mode": {
    "name": "ipython",
    "version": 3
   },
   "file_extension": ".py",
   "mimetype": "text/x-python",
   "name": "python",
   "nbconvert_exporter": "python",
   "pygments_lexer": "ipython3",
   "version": "3.7.7"
  }
 },
 "nbformat": 4,
 "nbformat_minor": 4
}
