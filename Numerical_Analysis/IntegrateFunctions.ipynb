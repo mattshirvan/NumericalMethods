{
 "cells": [
  {
   "cell_type": "code",
   "execution_count": 10,
   "metadata": {},
   "outputs": [
    {
     "data": {
      "application/vnd.jupyter.widget-view+json": {
       "model_id": "ed92f590edb24d97a68d4a3a14f4b14e",
       "version_major": 2,
       "version_minor": 0
      },
      "text/plain": [
       "Interactive function <function curve at 0x6ffed4b89f80> with 8 widgets\n",
       "  f: EvalText(value='-x^2 - 2*y^2 + 16'…"
      ]
     },
     "metadata": {},
     "output_type": "display_data"
    }
   ],
   "source": [
    "@interact\n",
    "def curve(f = input_box(default = 16 - x**2 - 2*y**2),\n",
    "          a = input_box(default = 2), \n",
    "          b = input_box(default = 4),\n",
    "          c = input_box(default = 2), \n",
    "          d = input_box(default = 4),\n",
    "          n = input_box(default = 5),\n",
    "          trapezoid = False, \n",
    "          rectangle = False):\n",
    "    \n",
    "    # Create plot\n",
    "    pl = plot(f(x, y), x, y, a, b, c, d, fill=True, fillcolor=\"green\", gridlines='minor', fillalpha=0.2)\n",
    "    \n",
    "    # plots \n",
    "    list_plots = [pl]\n",
    "    \n",
    "    # Estimated area\n",
    "    estimated_area = 0\n",
    "    \n",
    "    # Check if rectangle\n",
    "    if rectangle:\n",
    "        \n",
    "        # difference of a-b for \n",
    "        d = (b-a)/n\n",
    "\n",
    "        # Create rectangles\n",
    "        for i in range(n):\n",
    "            \n",
    "            # Create intervals\n",
    "            xi = a + i*d\n",
    "            xn = a + (i+1)*d\n",
    "            \n",
    "            # create midpoint\n",
    "            mid = (xn + xi)/2 \n",
    "            \n",
    "            # Create lines and plots\n",
    "            pl += line([(xi, 0), (xi, f(mid))], color='red')\n",
    "            pl += line([(xn, 0), (xn, f(mid))], color='red')\n",
    "            pl += line([(xi, f(mid)), (xn, f(mid))], color='red')\n",
    "            \n",
    "            # Add to plots list\n",
    "            list_plots += [pl]\n",
    "            \n",
    "            # Compute estimated area\n",
    "            estimated_area += (xn-xi)*(f(mid))\n",
    "            \n",
    "        # Show the estimated area\n",
    "        show(f\"Estimated Area: {estimated_area.n()}\")\n",
    "    \n",
    "    # Check if Trapezoid\n",
    "    if trapezoid:\n",
    "        \n",
    "        # difference of a-b for \n",
    "        d = (b-a)/n\n",
    "        \n",
    "        # Create trapezoids\n",
    "        for i in range(n):\n",
    "            \n",
    "            # Create intervals\n",
    "            xi = a + i*d\n",
    "            xn = a + (i+1)*d\n",
    "            \n",
    "            # Create lines and plots\n",
    "            pl += line([(xi, 0), (xi, f(xi))], color='red')\n",
    "            pl += line([(xn, 0), (xn, f(xn))], color='red')\n",
    "            pl += line([(xi, f(xi)), (xn, f(xn))], color='red')\n",
    "            \n",
    "            # Add to plots list\n",
    "            list_plots += [pl]\n",
    "            \n",
    "            # Compute estimated area\n",
    "            estimated_area += (xn-xi)*((f(xi)+f(xn))/2)\n",
    "        \n",
    "        # Show the estimated area\n",
    "        show(f\"Estimated Area: {estimated_area.n()}\")\n",
    "    \n",
    "    # Show the exact area\n",
    "    show(f\"Exact Area: {integrate(f(x), x, a,b).n()}\")\n",
    "    \n",
    "    # Animate\n",
    "    a = animate(list_plots)\n",
    "    a.show()"
   ]
  },
  {
   "cell_type": "code",
   "execution_count": null,
   "metadata": {},
   "outputs": [],
   "source": []
  },
  {
   "cell_type": "code",
   "execution_count": null,
   "metadata": {},
   "outputs": [],
   "source": []
  }
 ],
 "metadata": {
  "kernelspec": {
   "display_name": "SageMath 9.2",
   "language": "sage",
   "name": "sagemath"
  },
  "language_info": {
   "codemirror_mode": {
    "name": "ipython",
    "version": 3
   },
   "file_extension": ".py",
   "mimetype": "text/x-python",
   "name": "python",
   "nbconvert_exporter": "python",
   "pygments_lexer": "ipython3",
   "version": "3.7.7"
  }
 },
 "nbformat": 4,
 "nbformat_minor": 4
}
