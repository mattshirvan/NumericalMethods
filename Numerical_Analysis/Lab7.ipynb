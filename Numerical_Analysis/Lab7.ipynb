{
 "cells": [
  {
   "cell_type": "markdown",
   "metadata": {},
   "source": [
    "# Numerical Methods Lab - 7"
   ]
  },
  {
   "cell_type": "code",
   "execution_count": 11,
   "metadata": {},
   "outputs": [
    {
     "data": {
      "application/vnd.jupyter.widget-view+json": {
       "model_id": "b5db104f5ad84d679182fc0ee0c98aef",
       "version_major": 2,
       "version_minor": 0
      },
      "text/plain": [
       "Interactive function <function splines at 0x6ffed1e56a70> with 2 widgets\n",
       "  z0: EvalText(value='0', description…"
      ]
     },
     "metadata": {},
     "output_type": "display_data"
    }
   ],
   "source": [
    "@interact\n",
    "def splines(z0 = input_box(default = 0), \n",
    "            points = input_box(default = [(2, 15), (3, 30), (5, 14), (9, 1)])):\n",
    "    \n",
    "    ##############\n",
    "    # Initialize #\n",
    "    ##############\n",
    "    \n",
    "    # Function\n",
    "    zs = [z0]; QS(x) = 0\n",
    " \n",
    "    # Plot points\n",
    "    pl = list_plot(points, color=\"green\", size=50)\n",
    "    \n",
    "    ##################################   \n",
    "    # Quadratic Spline Interpolation #\n",
    "    ##################################\n",
    "              \n",
    "    # Lists for x and y points\n",
    "    X = list(zip(*points))[0]; Y = list(zip(*points))[1]\n",
    "\n",
    "    # Compute Z_i  \n",
    "    for i in range(1, len(points)):\n",
    "        \n",
    "        # Zi in Qs(x)\n",
    "        zs += [-zs[i-1] + 2*(Y[i] - Y[i-1])/(X[i] - X[i-1])]\n",
    "    \n",
    "    # Compute Qs(x) \n",
    "    for i in range(0, len(points)-1):\n",
    "        \n",
    "        # Quadtratic spline interpolation                          \n",
    "        QS(x) = (zs[i+1] - zs[i]) /(2*(X[i+1]-X[i])) * (x-X[i])^2 + zs[i]*(x-X[i]) + Y[i]\n",
    "        \n",
    "        # Add to plot\n",
    "        pl += plot(QS(x), X[i], X[i+1], color=\"red\")\n",
    "        \n",
    "    ########                     \n",
    "    # Plot #                   \n",
    "    ########\n",
    "    pl.show()\n",
    "    show(QS(x).expand())"
   ]
  },
  {
   "cell_type": "code",
   "execution_count": null,
   "metadata": {},
   "outputs": [],
   "source": []
  }
 ],
 "metadata": {
  "kernelspec": {
   "display_name": "SageMath 9.2",
   "language": "sage",
   "name": "sagemath"
  },
  "language_info": {
   "codemirror_mode": {
    "name": "ipython",
    "version": 3
   },
   "file_extension": ".py",
   "mimetype": "text/x-python",
   "name": "python",
   "nbconvert_exporter": "python",
   "pygments_lexer": "ipython3",
   "version": "3.7.7"
  }
 },
 "nbformat": 4,
 "nbformat_minor": 4
}
